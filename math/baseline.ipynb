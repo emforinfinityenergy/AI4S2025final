{
 "cells": [
  {
   "cell_type": "code",
   "execution_count": null,
   "id": "initial_id",
   "metadata": {
    "collapsed": true
   },
   "outputs": [],
   "source": [
    "import torch\n",
    "import torch.nn as nn\n",
    "import torch.optim as optim\n",
    "import numpy as np\n",
    "import pandas as pd\n",
    "import os\n",
    "\n",
    "# 请自己编写由数据计算体积的公式，Please write a formula for calculating volume based on data.\n",
    "def calculate_volume(data):\n",
    "    v = 1\n",
    "    return v"
   ]
  },
  {
   "metadata": {},
   "cell_type": "code",
   "outputs": [],
   "execution_count": null,
   "source": [
    "if __name__ == '__main__':\n",
    "    #-------------读取训练集,训练集地址已经设定好，不用修改------------------#\n",
    "    #-----Read the training set, the address of the training set has been set, and the following section does not need to be modified-------#\n",
    "    train_path = \"/bohr/train-wpxg/v1/C_train.csv\"\n",
    "    data_train = pd.read_csv(train_path)\n",
    "    #--------------在训练集上开始进行模型回归--Start Solving on Training Set-------------#\n",
    "    v_train = calculate_volume(data_train)\n",
    "\n",
    "    #-------------读取测试集---------------#“DATA_PATH”是测试集加密后的环境变量，按照如下方式可以在提交后，系统评分时访问测试集，但是选手无法直接下载\n",
    "    #----Read the testing set, “DATA_PATH” is an environment variable for the encrypted test set. After submission, you can access the test set for system scoring in the following manner, but the contestant cannot download it directly.-----#\n",
    "    if os.environ.get('DATA_PATH'):\n",
    "        DATA_PATH = os.environ.get(\"DATA_PATH\") + \"/\"\n",
    "    else:\n",
    "        print(\"Baseline运行时，因为无法读取测试集，所以会有此条报错，属于正常现象\")\n",
    "        print(\"When baseline is running, this error message will appear because the test set cannot be read, which is a normal phenomenon.\")\n",
    "        #Baseline运行时，因为无法读取测试集，所以会有此条报错，属于正常现象\n",
    "        #When baseline is running, this error message will appear because the test set cannot be read, which is a normal phenomenon.\n",
    "    testA_path = DATA_PATH + \"C_testA.csv\"  #读取测试集A，read test set A\n",
    "    data_testA = pd.read_csv(testA_path)\n",
    "    testB_path = DATA_PATH + \"C_testB.csv\" #读取测试集B, read test set B\n",
    "    data_testB = pd.read_csv(testB_path)\n",
    "\n",
    "    #--------------在测试集上开始进行模型回归--Start Solving on Testing Set-------------#\n",
    "    v_testA = calculate_volume(data_testA)\n",
    "    v_testB = calculate_volume(data_testB)\n",
    "    v = [v_train,v_testA,v_testB]\n",
    "    #-----保存参数v到CSV文件到submission.csv, to save the volumes v to the .csv file-----#\n",
    "    df_params = pd.DataFrame({'v': v})\n",
    "    print(df_params)\n",
    "    csv_file_path = 'submission.csv'\n",
    "    df_params.to_csv(csv_file_path, index=False)"
   ],
   "id": "6488cb265ca2ca73"
  }
 ],
 "metadata": {
  "kernelspec": {
   "display_name": "Python 3",
   "language": "python",
   "name": "python3"
  },
  "language_info": {
   "codemirror_mode": {
    "name": "ipython",
    "version": 2
   },
   "file_extension": ".py",
   "mimetype": "text/x-python",
   "name": "python",
   "nbconvert_exporter": "python",
   "pygments_lexer": "ipython2",
   "version": "2.7.6"
  }
 },
 "nbformat": 4,
 "nbformat_minor": 5
}
