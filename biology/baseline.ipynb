{
 "cells": [
  {
   "cell_type": "code",
   "execution_count": null,
   "id": "initial_id",
   "metadata": {
    "collapsed": true
   },
   "outputs": [],
   "source": [
    "# 导入需要的包\n",
    "# Import the required packages.\n",
    "import numpy as np\n",
    "import pandas as pd\n",
    "from sklearn.preprocessing import OrdinalEncoder\n",
    "from sklearn.linear_model import LinearRegression"
   ]
  },
  {
   "metadata": {},
   "cell_type": "code",
   "outputs": [],
   "execution_count": null,
   "source": [
    "# 数据读取 input data\n",
    "train_dir = \"/bohr/dataset-sxb8/v1/train.csv\"\n",
    "df_train = pd.read_csv(train_dir)"
   ],
   "id": "45eb55928e9b5b6"
  },
  {
   "metadata": {},
   "cell_type": "code",
   "outputs": [],
   "execution_count": null,
   "source": [
    "# 数据预处理与数据嵌入；Data Preprocessing and Data Embedding\n",
    "# 由于该过程在预测集上也需要进行，此处将其整理为函数；Since this process also needs to be performed on the prediction set, it is organized into a function here.\n",
    "# 选手可充分考虑不同数据嵌入技术，以提高预测效果；Participants are encouraged to fully consider different data embedding techniques to improve prediction performance.\n",
    "\n",
    "def prepare_data(df):\n",
    "    seq0 = np.array([list(x.lower()) for x in df.iloc[:,0].tolist()])\n",
    "    encoder = OrdinalEncoder(dtype=np.int32)\n",
    "    encoder.fit(seq0.reshape((-1,1)))\n",
    "    x = encoder.transform(seq0.reshape((-1, 1))).reshape(seq0.shape)\n",
    "    return x\n",
    "\n",
    "x_train = prepare_data(df_train)\n",
    "y_train = df_train['E-score']"
   ],
   "id": "17800b2eefed6fcf"
  },
  {
   "metadata": {},
   "cell_type": "code",
   "outputs": [],
   "execution_count": null,
   "source": [
    "# 模型训练\n",
    "# 此处选取线性回归模型\n",
    "# 选手可充分考虑不同机器学习/深度学习模型，以提高预测效果\n",
    "# Model training here, the linear regression model is selected.\n",
    "# Participants are encouraged to fully consider different machine learning/deep learning models to improve prediction performance.\n",
    "linear_model = LinearRegression()\n",
    "linear_model.fit(x_train, y_train)"
   ],
   "id": "930e4490a5938b37"
  },
  {
   "metadata": {},
   "cell_type": "code",
   "outputs": [],
   "execution_count": null,
   "source": [
    "import os\n",
    "import zipfile\n",
    "# 模型预测, Model Prediction\n",
    "# 将连续值转化为01标签，Convert continuous values into 0-1 labels.\n",
    "\n",
    "def make_label(y, per=99):\n",
    "    threshold = np.percentile(y, per)\n",
    "    labels = np.where(y >= threshold, 1, 0)\n",
    "    return labels\n",
    "# 读取测试集数据，Read test set data.\n",
    "if os.environ.get('DATA_PATH'):\n",
    "        DATA_PATH = os.environ.get(\"DATA_PATH\") + \"/\"\n",
    "else:\n",
    "    print(\"Baseline运行时，因为无法读取测试集，所以会有此条报错，属于正常现象\")\n",
    "    print(\"When baseline is running, this error message will appear because the test set cannot be read, which is a normal phenomenon.\")\n",
    "    #Baseline运行时，因为无法读取测试集，所以会有此条报错，属于正常现象\n",
    "    #When baseline is running, this error message will appear because the test set cannot be read, which is a normal phenomenon.\n",
    "testA_path = DATA_PATH + \"testA.csv\"  #读取测试集A, read testing setA\n",
    "df_testA = pd.read_csv(testA_path)\n",
    "testB_path = DATA_PATH + \"testB.csv\" #读取测试集B,read teseting setB\n",
    "df_testB = pd.read_csv(testB_path)\n",
    "# A榜\n",
    "x_testA = prepare_data(df_testA)\n",
    "y_predA = make_label(linear_model.predict(x_testA))\n",
    "pd.DataFrame(y_predA).to_csv(\"submissionA.csv\", header = False, index = False)\n",
    "# B榜\n",
    "x_testB = prepare_data(df_testB)\n",
    "y_predB = make_label(linear_model.predict(x_testB))\n",
    "pd.DataFrame(y_predB).to_csv(\"submissionB.csv\", header = False, index = False)"
   ],
   "id": "cca7d88349580a8"
  },
  {
   "metadata": {},
   "cell_type": "code",
   "outputs": [],
   "execution_count": null,
   "source": [
    "# 定义要打包的文件和压缩文件名，Define the files to be packaged and the compressed file name.\n",
    "files_to_zip = ['submissionA.csv', 'submissionB.csv']\n",
    "zip_filename = 'submission.zip'\n",
    "\n",
    "# 创建一个 zip 文件，Create a zip file.\n",
    "with zipfile.ZipFile(zip_filename, 'w') as zipf:\n",
    "    for file in files_to_zip:\n",
    "        # 将文件添加到 zip 文件中，Add files to the zip file.\n",
    "        zipf.write(file, os.path.basename(file))\n",
    "\n",
    "print(f'{zip_filename} is created succefully!')"
   ],
   "id": "49f89b21a7f38bd6"
  }
 ],
 "metadata": {
  "kernelspec": {
   "display_name": "Python 3",
   "language": "python",
   "name": "python3"
  },
  "language_info": {
   "codemirror_mode": {
    "name": "ipython",
    "version": 2
   },
   "file_extension": ".py",
   "mimetype": "text/x-python",
   "name": "python",
   "nbconvert_exporter": "python",
   "pygments_lexer": "ipython2",
   "version": "2.7.6"
  }
 },
 "nbformat": 4,
 "nbformat_minor": 5
}
